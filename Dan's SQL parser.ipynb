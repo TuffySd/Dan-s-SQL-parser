{
 "cells": [
  {
   "cell_type": "code",
   "execution_count": 1,
   "metadata": {},
   "outputs": [],
   "source": [
    "import re\n",
    "import pandas as pd"
   ]
  },
  {
   "cell_type": "code",
   "execution_count": 27,
   "metadata": {},
   "outputs": [],
   "source": [
    "string = '''select \n",
    "mhr.operator_name,\n",
    "date_format(mhr.start_time,'%d') day,\n",
    "pt.process_name,\n",
    "prn.process_routing_code,\n",
    "mhr.project_code,\n",
    "sum(mhr.amount) sum,\n",
    "prn.product_desc*1.0 jjdj,\n",
    "if((sum(mhr.amount)*prn.product_desc*1.0) is null,0,sum(mhr.amount)*prn.product_desc*1.0) jjgz\n",
    "FROM manufacture.manual_hold_record mhr\n",
    "left join manufacture.produce_task pt\n",
    "on pt.org_id=mhr.org_id and pt.id=mhr.task_id and pt.operator_ids->>'$[0]'=mhr.report_id\n",
    "left join def.process_routing_node prn\n",
    "on prn.org_id=mhr.org_id and prn.process_code=pt.process_code\n",
    "join manufacture.project p\n",
    "on p.org_id=mhr.org_id and p.project_code=mhr.project_code and prn.process_routing_code=p.process_routing_code \n",
    "left join \n",
    "(select org_id,\n",
    "task_id,\n",
    "date_format(json_unquote(json_extract(json_extract(content,'$[0].controls'),'$[0].value')),'%Y-%m-%d %H:%i:%S') huanmo_stime,\n",
    "date_format(json_unquote(json_extract(json_extract(content,'$[0].controls'),'$[1].value')),'%Y-%m-%d %H:%i:%S') huanmo_etime,\n",
    "json_unquote(json_extract(json_unquote(json_extract(json_extract(content,'$[0].controls'),'$[2].value')),'$.userName')) people\n",
    "from manufacture.produce_report pr\n",
    "where org_id=610388\n",
    ") pr\n",
    "on mhr.org_id=pr.org_id and mhr.task_id=pr.task_id and =pr.people\n",
    "where pt.org_id=610388 and pt.operator_group_id=822 and date(mhr.start_time)=date(mhr.end_time)\n",
    " and DATE_FORMAT(date(mhr.start_time), '%Y-%m' ) = DATE_FORMAT(str_to_date('${time}','%Y-%m'), '%Y-%m' )\n",
    "-- and DATE_FORMAT(date(mhr.end_time), '%Y-%m' ) = DATE_FORMAT(str_to_date('${time}','%Y-%m'), '%Y-%m' )\n",
    "group by ,date_format(mhr.start_time,'%d'),prn.process_routing_code,prn.product_desc*1.0,mhr.project_code,pt.process_name \n",
    "\n",
    "\n",
    "'''"
   ]
  },
  {
   "cell_type": "code",
   "execution_count": 28,
   "metadata": {},
   "outputs": [
    {
     "name": "stdout",
     "output_type": "stream",
     "text": [
      "库  :  表 \n",
      "\n",
      "manufacture : ['manual_hold_record', 'produce_report', 'produce_task', 'project'] \n",
      "\n",
      "\t manual_hold_record : ['mhr'] \n",
      "\n",
      "\t\t共 8 个字段: ['amount', 'end_time', 'operator_name', 'org_id', 'project_code', 'report_id', 'start_time', 'task_id']\n",
      "\t produce_report : ['pr'] \n",
      "\n",
      "\t\t共 3 个字段: ['org_id', 'people', 'task_id']\n",
      "\t produce_task : ['pt'] \n",
      "\n",
      "\t\t共 6 个字段: ['id', 'operator_group_id', 'operator_ids', 'org_id', 'process_code', 'process_name']\n",
      "\t project : ['p'] \n",
      "\n",
      "\t\t共 3 个字段: ['org_id', 'process_routing_code', 'project_code']\n",
      "def : ['process_routing_node'] \n",
      "\n",
      "\t process_routing_node : ['prn'] \n",
      "\n",
      "\t\t共 4 个字段: ['org_id', 'process_code', 'process_routing_code', 'product_desc']\n"
     ]
    }
   ],
   "source": [
    "pat1 = re.compile(r'FROM +((?!\\()\\w+?)\\.')\n",
    "pat2 = re.compile(r'FROM\\n\\t*((?!\\()\\w+?)\\.')\n",
    "pat3 = re.compile(r'LEFT JOIN +((?!\\()\\w+?)\\.')\n",
    "pat3_AS = re.compile(r'LEFT JOIN +AS ((?!\\()\\w+?)\\.')\n",
    "\n",
    "pat1l = re.compile(r'from +((?!\\()\\w+?)\\.')\n",
    "pat2l = re.compile(r'from\\n*\\t*((?!\\()\\w+?)\\.')\n",
    "pat3l = re.compile(r'left join +((?!\\()\\w+?)\\.')\n",
    "pat3l_as = re.compile(r'left join +as ((?!\\()\\w+?)\\.')\n",
    "r = list(set(re.findall(pat1,string) + re.findall(pat2,string) + re.findall(pat1l,string) + re.findall(pat2l,string) + \n",
    "       re.findall(pat3,string) + re.findall(pat3_AS,string) + re.findall(pat3l,string)+ re.findall(pat3l_as,string)))\n",
    "#提取库名\n",
    "\n",
    "print ('库  :  表','\\n')\n",
    "\n",
    "for item in r:\n",
    "    p = re.compile(item+r'\\.([^ \\n](?!\\{)(?!\\$)\\w+)')\n",
    "    temp = list(set(re.findall(p,string)))\n",
    "    temp.sort()\n",
    "    # 提取表名\n",
    "    print (item,':',temp,'\\n')\n",
    "    temp.append('-------------------------')\n",
    "    \n",
    "    item = '库:'+item\n",
    "    df2 = pd.DataFrame()\n",
    "    df2 = pd.DataFrame(columns = [item], data = temp)\n",
    "    df2.to_csv('/Users/data/desktop/table.csv', mode = 'a', index = False)\n",
    "    # 输出「库：表」\n",
    "    temp = temp[:-1]\n",
    "    \n",
    "    for table in temp:\n",
    "        p_1 = re.compile(r'\\.'+table+r' +((?!where)(?!WHERE)(?!as)(?!AS)\\w+)')\n",
    "        p_2 = re.compile(r'\\.'+table+r' +AS (\\w+)')\n",
    "        p_2l = re.compile(r'\\.'+table+r' +as (\\w+)')\n",
    "        alias = list(set(re.findall(p_1,string)+re.findall(p_2,string)+re.findall(p_2l,string)))\n",
    "        if alias:\n",
    "            print ('\\t',table,':',alias,'\\n')\n",
    "        else:\n",
    "            print ('\\n\\t',table,':未重命名','\\n')\n",
    "        #提取表的重命名\n",
    "        \n",
    "        ziduan = []\n",
    "        \n",
    "        if alias:\n",
    "            for i in alias:\n",
    "                p_3 = re.compile(r' '+i+'\\.(\\w+)')\n",
    "                p_4 = re.compile(r', *'+i+'\\.(\\w+)')\n",
    "                p_5 = re.compile(r'= *'+i+'\\.(\\w+)')\n",
    "                p_6 = re.compile(r'\\( *'+i+'\\.(\\w+)')\n",
    "                p_7 = re.compile(r'\\n *\\t*'+i+'\\.(\\w+)')\n",
    "                ziduan = list(set(ziduan+list(set(re.findall(p_3,string)+re.findall(p_4,string)\n",
    "                                       +re.findall(p_5,string)+re.findall(p_6,string)+re.findall(p_7,string)))))\n",
    "                ziduan = list(set(list(map(lambda x: x.lower(), ziduan ))))\n",
    "            \n",
    "            ziduan.sort() \n",
    "            #将字段按首字母进行排序\n",
    "            \n",
    "            print ('\\t\\t共',len(ziduan),'个字段:',ziduan)\n",
    "            ziduan.append('-------------------------')\n",
    "            \n",
    "            table = '表:'+table\n",
    "            df = pd.DataFrame()\n",
    "            df = pd.DataFrame(columns = [table], data = ziduan)\n",
    "            df.to_csv('/Users/data/desktop/ziduan.csv', mode = 'a', index = False)\n",
    "            #提取字段并输出"
   ]
  },
  {
   "cell_type": "code",
   "execution_count": null,
   "metadata": {},
   "outputs": [],
   "source": []
  },
  {
   "cell_type": "code",
   "execution_count": null,
   "metadata": {},
   "outputs": [],
   "source": []
  },
  {
   "cell_type": "code",
   "execution_count": null,
   "metadata": {},
   "outputs": [],
   "source": []
  },
  {
   "cell_type": "code",
   "execution_count": null,
   "metadata": {},
   "outputs": [],
   "source": []
  },
  {
   "cell_type": "code",
   "execution_count": null,
   "metadata": {},
   "outputs": [],
   "source": []
  },
  {
   "cell_type": "code",
   "execution_count": null,
   "metadata": {},
   "outputs": [],
   "source": []
  },
  {
   "cell_type": "code",
   "execution_count": null,
   "metadata": {},
   "outputs": [],
   "source": []
  },
  {
   "cell_type": "code",
   "execution_count": null,
   "metadata": {},
   "outputs": [],
   "source": []
  },
  {
   "cell_type": "code",
   "execution_count": null,
   "metadata": {},
   "outputs": [],
   "source": []
  },
  {
   "cell_type": "code",
   "execution_count": null,
   "metadata": {},
   "outputs": [],
   "source": []
  }
 ],
 "metadata": {
  "kernelspec": {
   "display_name": "Python 3",
   "language": "python",
   "name": "python3"
  },
  "language_info": {
   "codemirror_mode": {
    "name": "ipython",
    "version": 3
   },
   "file_extension": ".py",
   "mimetype": "text/x-python",
   "name": "python",
   "nbconvert_exporter": "python",
   "pygments_lexer": "ipython3",
   "version": "3.8.5"
  }
 },
 "nbformat": 4,
 "nbformat_minor": 4
}
